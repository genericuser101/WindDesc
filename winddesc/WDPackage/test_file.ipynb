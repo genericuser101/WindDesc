{
 "cells": [
  {
   "cell_type": "code",
   "execution_count": null,
   "metadata": {},
   "outputs": [],
   "source": [
    "folder_path = \"home/eng/esugxk/storage/WindDesc/simulation\"\n",
    "subfolders = os.listdir(folder_path)\n",
    "\n",
    "# Sort the subfolders in ascending order\n",
    "sorted_subfolders = sorted(subfolders, key=lambda x: int(x) if x.isdigit() else -1)\n",
    "\n",
    "# Get the last folder\n",
    "last_folder = sorted_subfolders[-1] if sorted_subfolders else None\n",
    "\n",
    "print(\"Value of the last folder:\", last_folder)"
   ]
  }
 ],
 "metadata": {
  "kernelspec": {
   "display_name": "Python 3",
   "language": "python",
   "name": "python3"
  },
  "language_info": {
   "codemirror_mode": {
    "name": "ipython",
    "version": 3
   },
   "file_extension": ".py",
   "mimetype": "text/x-python",
   "name": "python",
   "nbconvert_exporter": "python",
   "pygments_lexer": "ipython3",
   "version": "3.7.4"
  }
 },
 "nbformat": 4,
 "nbformat_minor": 2
}
