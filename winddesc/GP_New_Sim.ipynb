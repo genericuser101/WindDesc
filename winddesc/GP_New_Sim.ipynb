{
 "cells": [
  {
   "cell_type": "markdown",
   "metadata": {},
   "source": [
    "### CFD Process Visualisation Notebook"
   ]
  },
  {
   "cell_type": "code",
   "execution_count": 1,
   "metadata": {},
   "outputs": [],
   "source": [
    "#This is done until WDPackage is a standalone download.\n",
    "from WD_Package import CFD_utility\n",
    "from WD_Package import WD_config\n",
    "config = WD_config.config()"
   ]
  },
  {
   "cell_type": "markdown",
   "metadata": {},
   "source": [
    "The function below creates a set of new turbines which fit the constraints outlined by the parsed arguments."
   ]
  },
  {
   "cell_type": "code",
   "execution_count": 2,
   "metadata": {},
   "outputs": [
    {
     "name": "stdout",
     "output_type": "stream",
     "text": [
      "Positions:\n",
      " [[   0.            0.        ]\n",
      " [ 771.58373355 -146.092069  ]\n",
      " [ 632.8365001  -267.49083794]\n",
      " [2298.67276302 -296.45495914]]\n",
      "Neighbour List: [[], [0], [], [0, 1, 2]]\n",
      "Distance between turbine  2  and turbine  3  is too low.\n",
      "Positions:\n",
      " [[   0.            0.        ]\n",
      " [ 111.23026266  219.01212299]\n",
      " [1109.52015295  121.32479529]\n",
      " [ 217.19625378  207.95239431]]\n",
      "Neighbour List: [[], [], [0, 1, 3], [1]]\n",
      "Distance between turbine  1  and turbine  2  is too low.\n",
      "Positions:\n",
      " [[   0.            0.        ]\n",
      " [ 513.33501114 -236.49167682]\n",
      " [2872.81161776  -92.34276327]\n",
      " [ 563.28217985  -94.01732214]]\n",
      "Neighbour List: [[], [], [0, 1, 3], [0]]\n",
      "Distance between turbine  2  and turbine  4  is too low.\n",
      "Positions:\n",
      " [[   0.            0.        ]\n",
      " [  38.38663814 -304.84202038]\n",
      " [3390.21637972 -144.05548094]\n",
      " [2126.7128116   149.1837547 ]]\n",
      "Neighbour List: [[], [], [0, 1], [0]]\n",
      "Not enough neighbours\n",
      "Positions:\n",
      " [[   0.            0.        ]\n",
      " [ 163.83753531   80.01568257]\n",
      " [1160.52868275 -166.30881339]\n",
      " [ 915.94874661   86.51066242]]\n",
      "Neighbour List: [[], [0], [0], [0, 1]]\n",
      "Not enough neighbours\n",
      "Positions:\n",
      " [[   0.            0.        ]\n",
      " [  33.10426241 -128.60544744]\n",
      " [1222.56905432 -251.81817085]\n",
      " [3364.69168455 -105.54936774]]\n",
      "Neighbour List: [[], [], [1], [0, 1, 2]]\n",
      "Distance between turbine  1  and turbine  2  is too low.\n",
      "Positions:\n",
      " [[   0.            0.        ]\n",
      " [2060.24020193  -23.13379519]\n",
      " [2180.17928153 -361.47218868]\n",
      " [1290.34444392  -10.70910493]]\n",
      "Neighbour List: [[], [0, 3], [], [0]]\n",
      "Not enough neighbours\n",
      "Positions:\n",
      " [[  0.           0.        ]\n",
      " [897.55918973 130.42889213]\n",
      " [305.53196033 -71.38198282]\n",
      " [521.48007217 -55.23092444]]\n",
      "Neighbour List: [[], [0], [0], [0, 2]]\n",
      "Not enough neighbours\n",
      "Positions:\n",
      " [[   0.            0.        ]\n",
      " [ 285.97207254   24.59970693]\n",
      " [ 114.1814588  -260.14056191]\n",
      " [ 634.66789782 -185.24798687]]\n",
      "Neighbour List: [[], [0], [], [2]]\n",
      "Not enough neighbours\n",
      "Positions:\n",
      " [[   0.            0.        ]\n",
      " [1034.3982525   -49.12397637]\n",
      " [1611.6425055   -79.91563617]\n",
      " [2354.86782678  -49.27941592]]\n",
      "Neighbour List: [[], [0], [0, 1], [0, 1, 2]]\n",
      "Configuration Found!\n"
     ]
    },
    {
     "data": {
      "image/png": "[encoded data removed]",
      "text/plain": [
       "<Figure size 432x288 with 1 Axes>"
      ]
     },
     "metadata": {
      "needs_background": "light"
     },
     "output_type": "display_data"
    }
   ],
   "source": [
    "#Takes the arguments of min_dist, max_xdist, max_ydist, num_turb\n",
    "CFD = CFD_utility.CFD_Helper(279.0, 4000, 500, 4)\n",
    "turbines, neigh = CFD.generate_locations()\n",
    "CFD.display_turbine_configuration(turbines)"
   ]
  },
  {
   "cell_type": "markdown",
   "metadata": {},
   "source": [
    "The function below takes the created turbine map and uses zCFD to create a job file which then runs on the SCRTP servers."
   ]
  },
  {
   "cell_type": "code",
   "execution_count": 3,
   "metadata": {},
   "outputs": [
    {
     "ename": "FileNotFoundError",
     "evalue": "[Errno 2] No such file or directory: '../simulation/'",
     "output_type": "error",
     "traceback": [
      "\u001b[0;31m---------------------------------------------------------------------------\u001b[0m",
      "\u001b[0;31mFileNotFoundError\u001b[0m                         Traceback (most recent call last)",
      "\u001b[0;32m<ipython-input-3-ebfddb7e8759>\u001b[0m in \u001b[0;36m<module>\u001b[0;34m\u001b[0m\n\u001b[1;32m      1\u001b[0m \u001b[0;31m#Takes the arguments of turbine positions and sim number.\u001b[0m\u001b[0;34m\u001b[0m\u001b[0;34m\u001b[0m\u001b[0;34m\u001b[0m\u001b[0m\n\u001b[1;32m      2\u001b[0m \u001b[0;31m#Imagine hardcoding a number in, couldn't be me.\u001b[0m\u001b[0;34m\u001b[0m\u001b[0;34m\u001b[0m\u001b[0;34m\u001b[0m\u001b[0m\n\u001b[0;32m----> 3\u001b[0;31m \u001b[0msim_number\u001b[0m \u001b[0;34m=\u001b[0m \u001b[0mCFD\u001b[0m\u001b[0;34m.\u001b[0m\u001b[0mlast_local_sim\u001b[0m\u001b[0;34m(\u001b[0m\u001b[0mconfig\u001b[0m\u001b[0;34m.\u001b[0m\u001b[0msimulations_path\u001b[0m\u001b[0;34m)\u001b[0m\u001b[0;34m\u001b[0m\u001b[0;34m\u001b[0m\u001b[0m\n\u001b[0m\u001b[1;32m      4\u001b[0m \u001b[0mprint\u001b[0m\u001b[0;34m(\u001b[0m\u001b[0msim_number\u001b[0m\u001b[0;34m)\u001b[0m\u001b[0;34m\u001b[0m\u001b[0;34m\u001b[0m\u001b[0m\n\u001b[1;32m      5\u001b[0m \u001b[0;34m\u001b[0m\u001b[0m\n",
      "\u001b[0;32m/storage/eng/esugxk/WindDesc/WindDesc/winddesc/WD_Package/CFD_utility.py\u001b[0m in \u001b[0;36mlast_local_sim\u001b[0;34m(self, folder_path)\u001b[0m\n\u001b[1;32m    241\u001b[0m     \u001b[0;32mdef\u001b[0m \u001b[0mlast_local_sim\u001b[0m\u001b[0;34m(\u001b[0m\u001b[0mself\u001b[0m\u001b[0;34m,\u001b[0m \u001b[0mfolder_path\u001b[0m\u001b[0;34m)\u001b[0m\u001b[0;34m:\u001b[0m\u001b[0;34m\u001b[0m\u001b[0;34m\u001b[0m\u001b[0m\n\u001b[1;32m    242\u001b[0m \u001b[0;34m\u001b[0m\u001b[0m\n\u001b[0;32m--> 243\u001b[0;31m         \u001b[0msubfolders\u001b[0m \u001b[0;34m=\u001b[0m \u001b[0mos\u001b[0m\u001b[0;34m.\u001b[0m\u001b[0mlistdir\u001b[0m\u001b[0;34m(\u001b[0m\u001b[0mfolder_path\u001b[0m\u001b[0;34m)\u001b[0m\u001b[0;34m\u001b[0m\u001b[0;34m\u001b[0m\u001b[0m\n\u001b[0m\u001b[1;32m    244\u001b[0m \u001b[0;34m\u001b[0m\u001b[0m\n\u001b[1;32m    245\u001b[0m         \u001b[0;31m# Sort the subfolders in ascending order\u001b[0m\u001b[0;34m\u001b[0m\u001b[0;34m\u001b[0m\u001b[0;34m\u001b[0m\u001b[0m\n",
      "\u001b[0;31mFileNotFoundError\u001b[0m: [Errno 2] No such file or directory: '../simulation/'"
     ]
    }
   ],
   "source": [
    "#Takes the arguments of turbine positions and sim number.\n",
    "#Imagine hardcoding a number in, couldn't be me.\n",
    "try:\n",
    "    sim_number = CFD.last_local_sim(config.simulations_path)\n",
    "    excep\n",
    "\n",
    "print(sim_number)\n",
    "\n",
    "#CFD.simulate(turbines, sim_number)"
   ]
  }
 ],
 "metadata": {
  "kernelspec": {
   "display_name": "Python 3",
   "language": "python",
   "name": "python3"
  },
  "language_info": {
   "codemirror_mode": {
    "name": "ipython",
    "version": 3
   },
   "file_extension": ".py",
   "mimetype": "text/x-python",
   "name": "python",
   "nbconvert_exporter": "python",
   "pygments_lexer": "ipython3",
   "version": "3.7.4"
  }
 },
 "nbformat": 4,
 "nbformat_minor": 2
}
