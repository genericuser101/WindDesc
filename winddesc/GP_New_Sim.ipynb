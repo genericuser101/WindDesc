{
 "cells": [
  {
   "cell_type": "markdown",
   "metadata": {},
   "source": [
    "### New Hard-Coded Simulation Notebook"
   ]
  },
  {
   "cell_type": "markdown",
   "metadata": {},
   "source": [
    "Import the CFD functionlity from the WindDesc Package which will handle all the backend through a separate .py script."
   ]
  },
  {
   "cell_type": "code",
   "execution_count": null,
   "metadata": {},
   "outputs": [],
   "source": [
    "from WD_Package import CFD_utility\n",
    "from WD_Package import WD_config\n",
    "config = WD_config.config()\n",
    "\n",
    "CFD = CFD_utility.CFD_Helper(279.00, 4000.0, 500.0, 4)"
   ]
  },
  {
   "cell_type": "markdown",
   "metadata": {},
   "source": [
    "Generate a new set of locations to be used for the simulation."
   ]
  },
  {
   "cell_type": "code",
   "execution_count": 2,
   "metadata": {},
   "outputs": [
    {
     "name": "stdout",
     "output_type": "stream",
     "text": [
      "Positions:\n",
      " [[   0.            0.        ]\n",
      " [1622.44137768 -154.62840531]\n",
      " [1867.44750039 -143.43927587]\n",
      " [1237.14501583   74.75545533]]\n",
      "Neighbour List: [[], [0], [0, 1], [0]]\n",
      "Not enough neighbours\n",
      "Positions:\n",
      " [[   0.            0.        ]\n",
      " [ 129.14875737  -54.11414009]\n",
      " [ 246.84967276  239.39160793]\n",
      " [ 556.47613982 -146.45167144]]\n",
      "Neighbour List: [[], [0], [], [1]]\n",
      "Not enough neighbours\n",
      "Positions:\n",
      " [[   0.            0.        ]\n",
      " [ 646.77549033 -158.94964366]\n",
      " [ 553.4909394   -54.54419229]\n",
      " [2624.92891118 -282.27988927]]\n",
      "Neighbour List: [[], [], [0], [0, 1, 2]]\n",
      "Distance between turbine  2  and turbine  3  is too low.\n",
      "Positions:\n",
      " [[   0.            0.        ]\n",
      " [  34.82523913  -44.78644789]\n",
      " [1934.96761904 -343.16452161]\n",
      " [ 481.76242722 -478.55614417]]\n",
      "Neighbour List: [[], [0], [1, 3], []]\n",
      "Not enough neighbours\n",
      "Positions:\n",
      " [[   0.            0.        ]\n",
      " [ 231.50024938   61.63739145]\n",
      " [ 172.16298451 -358.77267428]\n",
      " [ 545.91722027  -94.25137954]]\n",
      "Neighbour List: [[], [0], [], [0]]\n",
      "Not enough neighbours\n",
      "Positions:\n",
      " [[   0.            0.        ]\n",
      " [ 904.77864211  -60.25371509]\n",
      " [ 603.08252186  155.60915286]\n",
      " [ 702.6822026  -323.65220706]]\n",
      "Neighbour List: [[], [0], [], []]\n",
      "Not enough neighbours\n",
      "Positions:\n",
      " [[   0.            0.        ]\n",
      " [ 423.26569259 -103.91864241]\n",
      " [ 523.30009492  195.71275634]\n",
      " [ 510.70436483 -313.14244441]]\n",
      "Neighbour List: [[], [0], [], []]\n",
      "Not enough neighbours\n",
      "Positions:\n",
      " [[   0.            0.        ]\n",
      " [1938.30373463 -153.24747805]\n",
      " [1041.31144334  -61.47320366]\n",
      " [1121.60363031 -184.93754429]]\n",
      "Neighbour List: [[], [0, 2, 3], [0], [0]]\n",
      "Distance between turbine  3  and turbine  4  is too low.\n",
      "Positions:\n",
      " [[   0.            0.        ]\n",
      " [  55.4682815  -301.56800652]\n",
      " [  57.17819544  -66.14799926]\n",
      " [1000.2162446   195.51556931]]\n",
      "Neighbour List: [[], [], [0], [0]]\n",
      "Not enough neighbours\n",
      "Positions:\n",
      " [[   0.            0.        ]\n",
      " [2699.97533577  185.80236812]\n",
      " [ 638.00483242  115.35140462]\n",
      " [1012.80255557   37.31880449]]\n",
      "Neighbour List: [[], [0, 2, 3], [0], [0, 2]]\n",
      "Configuration Found!\n"
     ]
    }
   ],
   "source": [
    "turbines, neigh = CFD.generate_locations()"
   ]
  },
  {
   "cell_type": "markdown",
   "metadata": {},
   "source": [
    "Display said locations."
   ]
  },
  {
   "cell_type": "code",
   "execution_count": 3,
   "metadata": {},
   "outputs": [
    {
     "data": {
      "image/png": "[encoded data removed]",
      "text/plain": [
       "<Figure size 432x288 with 1 Axes>"
      ]
     },
     "metadata": {
      "needs_background": "light"
     },
     "output_type": "display_data"
    }
   ],
   "source": [
    "CFD.display_turbine_configuration(turbines)"
   ]
  },
  {
   "cell_type": "markdown",
   "metadata": {},
   "source": [
    "Run a new simulation with the locations provided."
   ]
  },
  {
   "cell_type": "code",
   "execution_count": null,
   "metadata": {},
   "outputs": [],
   "source": [
    "windspd = \"10\"\n",
    "winddir = \"270\"\n",
    "\n",
    "try:\n",
    "    sim_number = CFD.last_local_sim(config.simulations_path)\n",
    "    print(\"No simulation directory, should be neighbour to data, winddesc and mesh_creation!\")\n",
    "except FileExistsError:\n",
    "    sim_number = 2\n",
    "\n",
    "CFD.simulate(turbines, sim_number, windspd, winddir)\n"
   ]
  },
  {
   "cell_type": "code",
   "execution_count": null,
   "metadata": {},
   "outputs": [],
   "source": []
  }
 ],
 "metadata": {
  "kernelspec": {
   "display_name": "Python 3",
   "language": "python",
   "name": "python3"
  },
  "language_info": {
   "codemirror_mode": {
    "name": "ipython",
    "version": 3
   },
   "file_extension": ".py",
   "mimetype": "text/x-python",
   "name": "python",
   "nbconvert_exporter": "python",
   "pygments_lexer": "ipython3",
   "version": "3.7.4"
  }
 },
 "nbformat": 4,
 "nbformat_minor": 2
}
