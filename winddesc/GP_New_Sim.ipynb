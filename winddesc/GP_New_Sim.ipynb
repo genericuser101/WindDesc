{
 "cells": [
  {
   "attachments": {},
   "cell_type": "markdown",
   "metadata": {},
   "source": [
    "### CFD Process Visualisation Notebook"
   ]
  },
  {
   "cell_type": "code",
   "execution_count": 1,
   "metadata": {},
   "outputs": [],
   "source": [
    "#This is done until WDPackage is a standalone download.\n",
    "from WD_Package import CFD_utility\n",
    "from WD_Package import WD_config\n",
    "config = WD_config.config()"
   ]
  },
  {
   "cell_type": "markdown",
   "metadata": {},
   "source": [
    "The function below creates a set of new turbines which fit the constraints outlined by the parsed arguments."
   ]
  },
  {
   "cell_type": "code",
   "execution_count": 2,
   "metadata": {},
   "outputs": [
    {
     "name": "stdout",
     "output_type": "stream",
     "text": [
      "Positions:\n",
      " [[   0.            0.        ]\n",
      " [  92.90393775 -220.71847597]\n",
      " [1878.94351592 -428.30867462]\n",
      " [2395.90042558 -118.60601863]]\n",
      "Neighbour List: [[], [], [1], [0, 1]]\n",
      "Not enough neighbours\n",
      "Positions:\n",
      " [[   0.            0.        ]\n",
      " [1902.47979666 -242.42512176]\n",
      " [ 704.79819912  -25.27275839]\n",
      " [ 333.71289723    7.19641993]]\n",
      "Neighbour List: [[], [0, 2, 3], [0, 3], [0]]\n",
      "Configuration Found!\n"
     ]
    },
    {
     "data": {
      "image/png": "[encoded data removed]",
      "text/plain": [
       "<Figure size 432x288 with 1 Axes>"
      ]
     },
     "metadata": {
      "needs_background": "light"
     },
     "output_type": "display_data"
    }
   ],
   "source": [
    "#Takes the arguments of min_dist, max_xdist, max_ydist, num_turb\n",
    "CFD = CFD_utility.CFD_Helper(279.0, 4000, 500, 4)\n",
    "turbines, neigh = CFD.generate_locations()\n",
    "CFD.display_turbine_configuration(turbines)"
   ]
  },
  {
   "cell_type": "markdown",
   "metadata": {},
   "source": [
    "The function below takes the created turbine map and uses zCFD to create a job file which then runs on the SCRTP servers."
   ]
  },
  {
   "cell_type": "code",
   "execution_count": 3,
   "metadata": {},
   "outputs": [],
   "source": [
    "#Takes the arguments of turbine positions and sim number.\n",
    "#Imagine hardcoding a number in, couldn't be me.\n",
    "sim_number = CFD.last_local_sim(config.simulations_path)\n",
    "CFD.simulate(turbines, sim_number)"
   ]
  }
 ],
 "metadata": {
  "kernelspec": {
   "display_name": "Python 3",
   "language": "python",
   "name": "python3"
  },
  "language_info": {
   "codemirror_mode": {
    "name": "ipython",
    "version": 3
   },
   "file_extension": ".py",
   "mimetype": "text/x-python",
   "name": "python",
   "nbconvert_exporter": "python",
   "pygments_lexer": "ipython3",
   "version": "3.7.4"
  }
 },
 "nbformat": 4,
 "nbformat_minor": 2
}
