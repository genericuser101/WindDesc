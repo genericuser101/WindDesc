{
 "cells": [
  {
   "cell_type": "markdown",
   "metadata": {},
   "source": [
    "### New Hard-Coded Simulation Notebook"
   ]
  },
  {
   "cell_type": "markdown",
   "metadata": {},
   "source": [
    "Import the CFD functionlity from the WindDesc Package which will handle all the backend through a separate .py script."
   ]
  },
  {
   "cell_type": "code",
   "execution_count": null,
   "metadata": {},
   "outputs": [],
   "source": [
    "from WD_Package import CFD_utility\n",
    "from WD_Package import WD_config\n",
    "config = WD_config.config()\n",
    "\n",
    "CFD = CFD_utility.CFD_Helper(279.00, 4000.0, 500.0, 4)"
   ]
  },
  {
   "cell_type": "markdown",
   "metadata": {},
   "source": [
    "Generate a new set of locations to be used for the simulation."
   ]
  },
  {
   "cell_type": "code",
   "execution_count": null,
   "metadata": {},
   "outputs": [],
   "source": [
    "turbines, neigh = CFD.generate_locations()"
   ]
  },
  {
   "cell_type": "markdown",
   "metadata": {},
   "source": [
    "Display said locations."
   ]
  },
  {
   "cell_type": "code",
   "execution_count": null,
   "metadata": {},
   "outputs": [],
   "source": [
    "CFD.display_turbine_configuration(turbines)"
   ]
  },
  {
   "cell_type": "markdown",
   "metadata": {},
   "source": [
    "Run a new simulation with the locations provided."
   ]
  },
  {
   "cell_type": "code",
   "execution_count": null,
   "metadata": {},
   "outputs": [],
   "source": [
    "windspd = 10\n",
    "winddir = 270\n",
    "\n",
    "try:\n",
    "    #sim_number = CFD.last_local_sim(config.simulations_path)\n",
    "    sim_number = 2\n",
    "    CFD.simulate(turbines, sim_number, windspd, winddir)\n",
    "except FileExistsError:\n",
    "    print(\"No simulation directory, should be neighbour to data, winddesc and mesh_creation!\")"
   ]
  }
 ],
 "metadata": {
  "kernelspec": {
   "display_name": "Python 3",
   "language": "python",
   "name": "python3"
  },
  "language_info": {
   "codemirror_mode": {
    "name": "ipython",
    "version": 3
   },
   "file_extension": ".py",
   "mimetype": "text/x-python",
   "name": "python",
   "nbconvert_exporter": "python",
   "pygments_lexer": "ipython3",
   "version": "3.7.4"
  }
 },
 "nbformat": 4,
 "nbformat_minor": 2
}
