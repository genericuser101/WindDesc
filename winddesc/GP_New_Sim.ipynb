{
 "cells": [
  {
   "cell_type": "markdown",
   "metadata": {},
   "source": [
    "### CFD Process Visualisation Notebook"
   ]
  },
  {
   "cell_type": "code",
   "execution_count": 8,
   "metadata": {},
   "outputs": [],
   "source": [
    "#This is done until WDPackage is a standalone download.\n",
    "from WD_Package import CFD_utility\n",
    "from WD_Package import WD_config\n",
    "config = WD_config.config()"
   ]
  },
  {
   "cell_type": "markdown",
   "metadata": {},
   "source": [
    "The function below creates a set of new turbines which fit the constraints outlined by the parsed arguments."
   ]
  },
  {
   "cell_type": "code",
   "execution_count": 2,
   "metadata": {},
   "outputs": [
    {
     "name": "stdout",
     "output_type": "stream",
     "text": [
      "Positions:\n",
      " [[   0.            0.        ]\n",
      " [2822.87913136 -379.90437425]\n",
      " [ 810.87126092 -282.14955827]\n",
      " [  74.99914311  -72.58041724]]\n",
      "Neighbour List: [[], [0, 2, 3], [], [0]]\n",
      "Distance between turbine  1  and turbine  4  is too low.\n",
      "Positions:\n",
      " [[   0.            0.        ]\n",
      " [2932.0929033   206.70108097]\n",
      " [ 220.13071173 -126.26472236]\n",
      " [ 946.65504464   27.5992507 ]]\n",
      "Neighbour List: [[], [0, 2, 3], [], [0, 2]]\n",
      "Distance between turbine  1  and turbine  3  is too low.\n",
      "Positions:\n",
      " [[   0.            0.        ]\n",
      " [2285.58532501  191.85115132]\n",
      " [ 693.92987218  -79.03095072]\n",
      " [ 247.77476067  -83.39239764]]\n",
      "Neighbour List: [[], [0, 2, 3], [0, 3], [0]]\n",
      "Distance between turbine  1  and turbine  4  is too low.\n",
      "Positions:\n",
      " [[   0.            0.        ]\n",
      " [ 973.65820455 -306.78387273]\n",
      " [ 945.41660044  -61.21316952]\n",
      " [ 536.67016884 -169.54385723]]\n",
      "Neighbour List: [[], [], [0, 3], []]\n",
      "Not enough neighbours\n",
      "Positions:\n",
      " [[   0.            0.        ]\n",
      " [  52.09166451 -111.17399784]\n",
      " [1062.87367498  -71.88831596]\n",
      " [ 397.77731568    4.75523134]]\n",
      "Neighbour List: [[], [], [0, 1, 3], [0]]\n",
      "Distance between turbine  1  and turbine  2  is too low.\n",
      "Positions:\n",
      " [[   0.            0.        ]\n",
      " [1083.65668488  263.75710093]\n",
      " [1210.21514707   -2.92160896]\n",
      " [1103.49118569  129.49741701]]\n",
      "Neighbour List: [[], [], [0], [0]]\n",
      "Not enough neighbours\n",
      "Positions:\n",
      " [[   0.            0.        ]\n",
      " [3231.82034733  272.35077688]\n",
      " [1433.67531852  -95.24789403]\n",
      " [ 102.56402607 -178.1271632 ]]\n",
      "Neighbour List: [[], [0, 3], [0, 3], []]\n",
      "Not enough neighbours\n",
      "Positions:\n",
      " [[   0.            0.        ]\n",
      " [1116.97696429 -367.48709387]\n",
      " [ 134.92508543 -296.65710598]\n",
      " [   7.0575459   -67.48646285]]\n",
      "Neighbour List: [[], [2], [], [0]]\n",
      "Not enough neighbours\n",
      "Positions:\n",
      " [[   0.            0.        ]\n",
      " [ 613.82513786  -79.52802709]\n",
      " [2407.37990576  215.89179026]\n",
      " [2653.2972122   -77.25049641]]\n",
      "Neighbour List: [[], [0], [0, 1], [0, 1]]\n",
      "Not enough neighbours\n",
      "Positions:\n",
      " [[   0.            0.        ]\n",
      " [2207.5992473   297.17272688]\n",
      " [1421.00151851  -46.72250523]\n",
      " [1489.65978176 -213.32565941]]\n",
      "Neighbour List: [[], [0], [0], [0]]\n",
      "Not enough neighbours\n",
      "Positions:\n",
      " [[   0.            0.        ]\n",
      " [ 448.20727629  266.00268715]\n",
      " [ 128.20788685  364.73529291]\n",
      " [3101.22620515 -119.21697446]]\n",
      "Neighbour List: [[], [2], [], [0, 1]]\n",
      "Not enough neighbours\n",
      "Positions:\n",
      " [[   0.            0.        ]\n",
      " [ 296.69897881   23.11109872]\n",
      " [2662.70177641  419.50244804]\n",
      " [1022.44810007 -191.07152204]]\n",
      "Neighbour List: [[], [0], [], [0]]\n",
      "Not enough neighbours\n",
      "Positions:\n",
      " [[   0.            0.        ]\n",
      " [1785.04312173  432.93435364]\n",
      " [ 817.23931881  329.81034236]\n",
      " [ 346.99905632 -245.59386056]]\n",
      "Neighbour List: [[], [2], [], []]\n",
      "Not enough neighbours\n",
      "Positions:\n",
      " [[   0.            0.        ]\n",
      " [ 667.13188567  129.11350108]\n",
      " [3676.99398892  262.24769005]\n",
      " [ 434.77456229  418.74323381]]\n",
      "Neighbour List: [[], [0], [0, 1, 3], []]\n",
      "Configuration Found!\n"
     ]
    },
    {
     "data": {
      "image/png": "[encoded data removed]",
      "text/plain": [
       "<Figure size 432x288 with 1 Axes>"
      ]
     },
     "metadata": {
      "needs_background": "light"
     },
     "output_type": "display_data"
    }
   ],
   "source": [
    "#Takes the arguments of min_dist, max_xdist, max_ydist, num_turb\n",
    "CFD = CFD_utility.CFD_Helper(279.0, 4000, 500, 4)\n",
    "turbines, neigh = CFD.generate_locations()\n",
    "CFD.display_turbine_configuration(turbines)"
   ]
  },
  {
   "cell_type": "markdown",
   "metadata": {},
   "source": [
    "The function below takes the created turbine map and uses zCFD to create a job file which then runs on the SCRTP servers."
   ]
  },
  {
   "cell_type": "code",
   "execution_count": 10,
   "metadata": {
    "scrolled": true
   },
   "outputs": [
    {
     "name": "stdout",
     "output_type": "stream",
     "text": [
      "2\n",
      "32512\n"
     ]
    },
    {
     "data": {
      "text/plain": [
       "0"
      ]
     },
     "execution_count": 10,
     "metadata": {},
     "output_type": "execute_result"
    }
   ],
   "source": [
    "#Takes the arguments of turbine positions and sim number.\n",
    "#Imagine hardcoding a number in, couldn't be me.\n",
    "try:\n",
    "    sim_number = CFD.last_local_sim(config.simulations_path)\n",
    "except FileNotFound:\n",
    "    sim_number = 2\n",
    "\n",
    "print(sim_number)\n",
    "\n",
    "#For the debugging and trial purposes we lock both of the values\n",
    "#I don't really know why the os wont accept ints which have been turned into strings but this works.\n",
    "windspd = \"10\"\n",
    "winddir = \"270\"\n",
    "CFD.simulate(turbines, sim_number,windspd,winddir)"
   ]
  }
 ],
 "metadata": {
  "kernelspec": {
   "display_name": "Python 3",
   "language": "python",
   "name": "python3"
  },
  "language_info": {
   "codemirror_mode": {
    "name": "ipython",
    "version": 3
   },
   "file_extension": ".py",
   "mimetype": "text/x-python",
   "name": "python",
   "nbconvert_exporter": "python",
   "pygments_lexer": "ipython3",
   "version": "3.7.4"
  }
 },
 "nbformat": 4,
 "nbformat_minor": 2
}
